{
 "cells": [
  {
   "cell_type": "code",
   "execution_count": 91,
   "id": "6f96a0d0-13bd-47d9-aece-905c4c9b7fe7",
   "metadata": {},
   "outputs": [],
   "source": [
    "import pyodbc\n",
    "from pymongo import MongoClient\n",
    "from datetime import datetime, timedelta\n",
    "import smtplib\n",
    "from email.mime.text import MIMEText"
   ]
  },
  {
   "cell_type": "code",
   "execution_count": 93,
   "id": "c5bac4d4-d045-4a5e-9bfb-3a3c1cc770c7",
   "metadata": {},
   "outputs": [],
   "source": [
    "# MongoDB connection details\n",
    "MONGO_HOST = 'localhost'\n",
    "MONGO_PORT = 27017\n",
    "MONGO_DB = 'BankMDB'\n",
    "MONGO_COLLECTION = 'user_activities'\n",
    "\n",
    "# Email configuration\n",
    "SMTP_SERVER = 'smtp.gmail.com'\n",
    "SMTP_PORT = 587\n",
    "EMAIL_USERNAME = 'abhilash.ghagare784@gmail.com'\n",
    "EMAIL_PASSWORD = 'flrb nidk ienw zjsr'\n",
    "SUPPORT_EMAIL = 'abhilash.ghagare784@gmail.com'"
   ]
  },
  {
   "cell_type": "code",
   "execution_count": 94,
   "id": "7e57389d-fa2f-4304-a0db-b25eb969558b",
   "metadata": {},
   "outputs": [],
   "source": [
    "def validate_user(username, password):\n",
    "    \n",
    "    conn = pyodbc.connect('DRIVER={ODBC Driver 17 for SQL Server};SERVER=LAPTOP-TB0N3NME\\SQLEXPRESS;Database=BankDB;Trusted_Connection=yes;')\n",
    "    cursor = conn.cursor()\n",
    "\n",
    "    query = \"SELECT * FROM [User] WHERE username = ? AND password = ?\"\n",
    "    cursor.execute(query, (username, password))\n",
    "    user = cursor.fetchone()\n",
    "\n",
    "    conn.close()\n",
    "\n",
    "    return user"
   ]
  },
  {
   "cell_type": "code",
   "execution_count": 95,
   "id": "7e9a4ac8-7ab9-46ea-81e0-1b854ff2e9c5",
   "metadata": {},
   "outputs": [],
   "source": [
    "def record_activity(username, activity_type, success, ip_address):\n",
    "    client = MongoClient(MONGO_HOST, MONGO_PORT)\n",
    "    db = client[MONGO_DB]\n",
    "    collection = db[MONGO_COLLECTION]\n",
    "\n",
    "    activity = {\n",
    "        \"username\": username,\n",
    "        \"activity_type\": activity_type,\n",
    "        \"timestamp\": datetime.now(),\n",
    "        \"ip_address\": ip_address,\n",
    "        \"success\": success\n",
    "    }\n",
    "\n",
    "    collection.insert_one(activity)\n",
    "    client.close()"
   ]
  },
  {
   "cell_type": "code",
   "execution_count": 96,
   "id": "53d4e132-9986-45b9-ab0e-6c48a8fb48bb",
   "metadata": {},
   "outputs": [],
   "source": [
    "def send_email(subject, message):\n",
    "    msg = MIMEText(message)\n",
    "    msg['Subject'] = subject\n",
    "    msg['From'] = EMAIL_USERNAME\n",
    "    msg['To'] = SUPPORT_EMAIL\n",
    "\n",
    "    server = smtplib.SMTP(SMTP_SERVER, SMTP_PORT)\n",
    "    server.starttls()\n",
    "    server.login(EMAIL_USERNAME, EMAIL_PASSWORD)\n",
    "    server.sendmail(EMAIL_USERNAME, SUPPORT_EMAIL, msg.as_string())\n",
    "    server.quit()"
   ]
  },
  {
   "cell_type": "code",
   "execution_count": 104,
   "id": "8d87de1e-9365-4e35-b120-96546b4ff5bd",
   "metadata": {},
   "outputs": [
    {
     "name": "stdin",
     "output_type": "stream",
     "text": [
      "Enter your username:  john.doe\n",
      "Enter your password:  abc\n"
     ]
    },
    {
     "name": "stdout",
     "output_type": "stream",
     "text": [
      "Invalid username or password!\n",
      "Your account is locked. Please try after some time.\n"
     ]
    }
   ],
   "source": [
    "def main():\n",
    "    username = input(\"Enter your username: \")\n",
    "    password = input(\"Enter your password: \")\n",
    "\n",
    "    user = validate_user(username, password)\n",
    "    if user:\n",
    "        print(\"Login successful!\")\n",
    "        record_activity(username, \"login_attempt\", True, \"127.0.0.1\")\n",
    "    else:\n",
    "        print(\"Invalid username or password!\")\n",
    "        record_activity(username, \"login_attempt\", False, \"127.0.0.1\")\n",
    "\n",
    "        # Check if account locked\n",
    "        client = MongoClient(MONGO_HOST, MONGO_PORT)\n",
    "        db = client[MONGO_DB]\n",
    "        collection = db[MONGO_COLLECTION]\n",
    "\n",
    "        recent_failed_attempts = collection.find({\n",
    "            \"username\": username,\n",
    "            \"activity_type\": \"login_attempt\",\n",
    "            \"success\": False,\n",
    "            \"timestamp\": {\"$gte\": datetime.now() - timedelta(minutes=10)}\n",
    "        })\n",
    "\n",
    "        failed_attempt_count = sum(1 for _ in recent_failed_attempts)\n",
    "\n",
    "        if failed_attempt_count >= 3:\n",
    "            print(\"Your account is locked. Please try after some time.\")\n",
    "            send_email(\"Account Locked\", f\"Account with username {username} is locked due to multiple failed login attempts.\")\n",
    "        client.close()\n",
    "\n",
    "if __name__ == \"__main__\":\n",
    "    main()"
   ]
  },
  {
   "cell_type": "code",
   "execution_count": null,
   "id": "6579572c-fb11-4268-9ec4-a6fc97233447",
   "metadata": {},
   "outputs": [],
   "source": []
  }
 ],
 "metadata": {
  "kernelspec": {
   "display_name": "PYSPARK_KERNEL",
   "language": "python",
   "name": "pyspark_kernel"
  },
  "language_info": {
   "codemirror_mode": {
    "name": "ipython",
    "version": 3
   },
   "file_extension": ".py",
   "mimetype": "text/x-python",
   "name": "python",
   "nbconvert_exporter": "python",
   "pygments_lexer": "ipython3",
   "version": "3.9.1"
  }
 },
 "nbformat": 4,
 "nbformat_minor": 5
}
